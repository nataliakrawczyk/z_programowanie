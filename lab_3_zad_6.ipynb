{
 "cells": [
  {
   "cell_type": "markdown",
   "metadata": {},
   "source": [
    "Stworzyć funkcję, która przyjmuje 2 argumenty typu list i zwraca wynik typu list. Funkcja ma za zadanie złączyć przekazane listy w jedną, usunąć duplikaty, każdy element podnieść do potęgi 3 stopnia, a następnie zwrócić powstałą listę.\n"
   ]
  },
  {
   "cell_type": "code",
   "execution_count": 5,
   "metadata": {},
   "outputs": [
    {
     "name": "stdout",
     "output_type": "stream",
     "text": [
      "[1, 8, 27, 216]\n"
     ]
    }
   ],
   "source": [
    "def merge_list(first_list: list, second_list: list) -> list:\n",
    "    merged_list = []\n",
    "    for x in first_list + second_list:\n",
    "        if(x**3 not in merged_list):\n",
    "            merged_list.append(x**3)\n",
    "    return merged_list\n",
    "\n",
    "print(merge_list([1, 2, 3], [1, 2, 6]))"
   ]
  },
  {
   "cell_type": "code",
   "execution_count": 10,
   "metadata": {},
   "outputs": [
    {
     "name": "stdout",
     "output_type": "stream",
     "text": [
      "[1, 8, 27, 64]\n"
     ]
    }
   ],
   "source": [
    "print(merge_list([1, 2, 3], [1, 2, 3, 4]))"
   ]
  },
  {
   "cell_type": "code",
   "execution_count": 9,
   "metadata": {},
   "outputs": [
    {
     "name": "stdout",
     "output_type": "stream",
     "text": [
      "[1, 8, 27, 64, 125, 216, 343]\n"
     ]
    }
   ],
   "source": [
    "print(merge_list([1, 2, 3], [4, 5, 6, 7]))"
   ]
  }
 ],
 "metadata": {
  "kernelspec": {
   "display_name": "Python 3.9.8 64-bit",
   "language": "python",
   "name": "python3"
  },
  "language_info": {
   "codemirror_mode": {
    "name": "ipython",
    "version": 3
   },
   "file_extension": ".py",
   "mimetype": "text/x-python",
   "name": "python",
   "nbconvert_exporter": "python",
   "pygments_lexer": "ipython3",
   "version": "3.9.8"
  },
  "orig_nbformat": 4,
  "vscode": {
   "interpreter": {
    "hash": "7f2eb623dfa5f891bddea5d2ee46bf300657ae8da1fde1fde5dd8fafda1bf4bf"
   }
  }
 },
 "nbformat": 4,
 "nbformat_minor": 2
}
