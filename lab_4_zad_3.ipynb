{
 "cells": [
  {
   "cell_type": "markdown",
   "metadata": {},
   "source": [
    "Stworzyć następujące klasy: Property, House, Flat. Dodatkowo: Każda z klas dziedziczących ma mieć zaimplementowaną metodę __str__ , która będzie opisywała obiekt.\n",
    "Pola w klasie mają być zdefiniowane jako atrybuty ustawiane podczas tworzenia instancji klasy za pośrednictwem\n",
    "konstruktora.\n",
    "Stworzyć po jednym obiekcie klasy House oraz Flat, a następnie je wyświetlić."
   ]
  },
  {
   "cell_type": "code",
   "execution_count": 1,
   "metadata": {},
   "outputs": [],
   "source": [
    "class Property:\n",
    "    def __init__(self, area, rooms: int, price, address):\n",
    "        self._area = area\n",
    "        self._rooms = rooms\n",
    "        self._price = price\n",
    "        self._address = address\n",
    "    @property\n",
    "    def area(self):\n",
    "        return self._area\n",
    "    @property\n",
    "    def rooms(self):\n",
    "        return self._rooms\n",
    "    @property\n",
    "    def price(self):\n",
    "        return self._price\n",
    "    @property \n",
    "    def address(self):\n",
    "        return self._address\n",
    "    @area.setter\n",
    "    def area(self, value):\n",
    "        self._area = value\n",
    "    @rooms.setter\n",
    "    def rooms(self, value):\n",
    "        self._rooms = value\n",
    "    @price.setter\n",
    "    def price(self, value):\n",
    "        self._price = value\n",
    "    @address.setter\n",
    "    def address(self, value):\n",
    "        self._address = value\n",
    "    def __str__(self) -> str:\n",
    "        return f'Area: {self.area}, Rooms: {self.rooms}, Price: {self.price}, Address: {self.address}'\n",
    "\n",
    "class House(Property):\n",
    "    def __init__(self, area, rooms: int, price, address, plot: int):\n",
    "        super().__init__(area, rooms, price, address)\n",
    "        self._plot = plot\n",
    "    @property\n",
    "    def plot(self) -> int:\n",
    "        return self._plot\n",
    "    @plot.setter\n",
    "    def plot(self, plot: int):\n",
    "        self._plot = plot\n",
    "    def __str__(self) -> str:\n",
    "        return super().__str__() + f', Plot: {self.plot}'\n",
    "\n",
    "class Flat(Property):\n",
    "    def __init__(self, area, rooms: int, price, address, floor):\n",
    "        super().__init__(area, rooms, price, address)\n",
    "        self._floor = floor\n",
    "    @property\n",
    "    def floor(self) -> None:\n",
    "        return self._floor\n",
    "    @floor.setter\n",
    "    def plot(self, floor):\n",
    "        self._floor = floor\n",
    "    def __str__(self) -> str:\n",
    "        return super().__str__() + f', Floor: {self.floor}'"
   ]
  },
  {
   "cell_type": "code",
   "execution_count": 2,
   "metadata": {},
   "outputs": [],
   "source": [
    "house1 = House(100, 5, 123999.25, 'ul. Jakaś', 120)\n",
    "flat1 = Flat(125, 4, 200010.00, 'ul. Druga', 1)"
   ]
  },
  {
   "cell_type": "code",
   "execution_count": 4,
   "metadata": {},
   "outputs": [
    {
     "name": "stdout",
     "output_type": "stream",
     "text": [
      "House: Area: 100, Rooms: 5, Price: 123999.25, Address: ul. Jakaś, Plot: 120\n"
     ]
    }
   ],
   "source": [
    "print(\"House: \"+ house1.__str__())"
   ]
  },
  {
   "cell_type": "code",
   "execution_count": 5,
   "metadata": {},
   "outputs": [
    {
     "name": "stdout",
     "output_type": "stream",
     "text": [
      "Flat: Area: 125, Rooms: 4, Price: 200010.0, Address: ul. Druga, Floor: 1\n"
     ]
    }
   ],
   "source": [
    "print(\"Flat: \"+ flat1.__str__())"
   ]
  }
 ],
 "metadata": {
  "kernelspec": {
   "display_name": "Python 3.9.8 64-bit",
   "language": "python",
   "name": "python3"
  },
  "language_info": {
   "codemirror_mode": {
    "name": "ipython",
    "version": 3
   },
   "file_extension": ".py",
   "mimetype": "text/x-python",
   "name": "python",
   "nbconvert_exporter": "python",
   "pygments_lexer": "ipython3",
   "version": "3.9.8"
  },
  "orig_nbformat": 4,
  "vscode": {
   "interpreter": {
    "hash": "7f2eb623dfa5f891bddea5d2ee46bf300657ae8da1fde1fde5dd8fafda1bf4bf"
   }
  }
 },
 "nbformat": 4,
 "nbformat_minor": 2
}
