{
 "cells": [
  {
   "cell_type": "markdown",
   "metadata": {},
   "source": [
    "Stworzyć funkcję, która będzie sprawdzała czy przekazana liczba w parametrze jest parzysta i zwróci tą informację jako typ logiczny bool (True / False). Należy uruchomić funkcję, wynik wykonania zapisać do zmiennej, a następnie wykorzystując warunek logiczny wyświetlić prawidłowy tekst \"Liczba parzysta\"/\"Liczba nieparzysta\"."
   ]
  },
  {
   "cell_type": "code",
   "execution_count": 3,
   "metadata": {},
   "outputs": [
    {
     "name": "stdout",
     "output_type": "stream",
     "text": [
      "Liczba nieparzysta\n"
     ]
    }
   ],
   "source": [
    "def is_even (number: int) -> bool:\n",
    "    return number % 2 == 0\n",
    "\n",
    "isEven = is_even(5)\n",
    "print('Liczba parzysta') if isEven else print('Liczba nieparzysta')"
   ]
  },
  {
   "cell_type": "code",
   "execution_count": 4,
   "metadata": {},
   "outputs": [
    {
     "name": "stdout",
     "output_type": "stream",
     "text": [
      "Liczba parzysta\n"
     ]
    }
   ],
   "source": [
    "isEven = is_even(6)\n",
    "print('Liczba parzysta') if isEven else print('Liczba nieparzysta')"
   ]
  }
 ],
 "metadata": {
  "kernelspec": {
   "display_name": "Python 3.9.8 64-bit",
   "language": "python",
   "name": "python3"
  },
  "language_info": {
   "codemirror_mode": {
    "name": "ipython",
    "version": 3
   },
   "file_extension": ".py",
   "mimetype": "text/x-python",
   "name": "python",
   "nbconvert_exporter": "python",
   "pygments_lexer": "ipython3",
   "version": "3.9.8"
  },
  "orig_nbformat": 4,
  "vscode": {
   "interpreter": {
    "hash": "7f2eb623dfa5f891bddea5d2ee46bf300657ae8da1fde1fde5dd8fafda1bf4bf"
   }
  }
 },
 "nbformat": 4,
 "nbformat_minor": 2
}
