{
 "cells": [
  {
   "cell_type": "markdown",
   "metadata": {},
   "source": [
    "Stworzyć funkcję, która przyjmie 2 argumenty. Pierwszy typu list, a drugi typu int. Funkcja ma sprawdzić (zwracając typ logiczny bool), czy lista z parametru pierwszego zawiera taką wartość jaką przekazano w parametrze drugim.\n"
   ]
  },
  {
   "cell_type": "code",
   "execution_count": 5,
   "metadata": {},
   "outputs": [
    {
     "name": "stdout",
     "output_type": "stream",
     "text": [
      "True\n"
     ]
    }
   ],
   "source": [
    "def list_contains(values: list, value: int) -> bool:\n",
    "    return value in values\n",
    "\n",
    "values = [1, 5, 8]\n",
    "hasValue = list_contains(values, 5)\n",
    "print(hasValue)"
   ]
  },
  {
   "cell_type": "code",
   "execution_count": 6,
   "metadata": {},
   "outputs": [
    {
     "name": "stdout",
     "output_type": "stream",
     "text": [
      "False\n"
     ]
    }
   ],
   "source": [
    "hasValue = list_contains(values, 2)\n",
    "print(hasValue)"
   ]
  }
 ],
 "metadata": {
  "kernelspec": {
   "display_name": "Python 3.9.8 64-bit",
   "language": "python",
   "name": "python3"
  },
  "language_info": {
   "codemirror_mode": {
    "name": "ipython",
    "version": 3
   },
   "file_extension": ".py",
   "mimetype": "text/x-python",
   "name": "python",
   "nbconvert_exporter": "python",
   "pygments_lexer": "ipython3",
   "version": "3.9.8"
  },
  "orig_nbformat": 4,
  "vscode": {
   "interpreter": {
    "hash": "7f2eb623dfa5f891bddea5d2ee46bf300657ae8da1fde1fde5dd8fafda1bf4bf"
   }
  }
 },
 "nbformat": 4,
 "nbformat_minor": 2
}
