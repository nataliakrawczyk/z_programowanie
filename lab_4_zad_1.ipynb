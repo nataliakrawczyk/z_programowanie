{
 "cells": [
  {
   "cell_type": "markdown",
   "metadata": {},
   "source": [
    "Stworzyć klasę Student, która posiada 2 parametry (name i marks) oraz jedną metodę is_passed, która zwraca wartość logiczną, pozytywną gdy średnia ocen jest > 50 w przeciwnym przypadku negatywną. Następnie należy stworzyć 2 przykładowe obiekty klasy, tak aby dla pierwszego obiektu metoda zwracała true, a dla drugiego false."
   ]
  },
  {
   "cell_type": "code",
   "execution_count": 2,
   "metadata": {},
   "outputs": [
    {
     "name": "stdout",
     "output_type": "stream",
     "text": [
      "True\n"
     ]
    }
   ],
   "source": [
    "class Student:\n",
    "  def __init__(self, name, marks):\n",
    "    self.name = name\n",
    "    self.marks = marks\n",
    "  \n",
    "  def is_passed(self):\n",
    "      return sum(self.marks) / len(self.marks) > 50\n",
    "      \n",
    "      \n",
    "osoba1 = Student('Natalia Pierwsza', [50, 60, 50, 70])\n",
    "print(osoba1.is_passed())"
   ]
  },
  {
   "cell_type": "code",
   "execution_count": 3,
   "metadata": {},
   "outputs": [
    {
     "name": "stdout",
     "output_type": "stream",
     "text": [
      "False\n"
     ]
    }
   ],
   "source": [
    "osoba2 = Student('Natalia Druga', [40, 30, 20, 50])\n",
    "print(osoba2.is_passed())"
   ]
  }
 ],
 "metadata": {
  "kernelspec": {
   "display_name": "Python 3.9.8 64-bit",
   "language": "python",
   "name": "python3"
  },
  "language_info": {
   "codemirror_mode": {
    "name": "ipython",
    "version": 3
   },
   "file_extension": ".py",
   "mimetype": "text/x-python",
   "name": "python",
   "nbconvert_exporter": "python",
   "pygments_lexer": "ipython3",
   "version": "3.9.8"
  },
  "orig_nbformat": 4,
  "vscode": {
   "interpreter": {
    "hash": "7f2eb623dfa5f891bddea5d2ee46bf300657ae8da1fde1fde5dd8fafda1bf4bf"
   }
  }
 },
 "nbformat": 4,
 "nbformat_minor": 2
}
