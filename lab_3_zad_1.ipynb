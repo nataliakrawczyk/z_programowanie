{
 "cells": [
  {
   "cell_type": "markdown",
   "metadata": {},
   "source": [
    "Stworzyć funkcję, która przyjmuje 2 argumenty (typu string) name i surname, a następnie zwróci stringa zgodnie ze wzorem Cześć {name} {surname}! Należy uruchomić funkcję, wynik wykonania funkcji zapisać do zmiennej, a następnie go wyświetlić (print)."
   ]
  },
  {
   "cell_type": "code",
   "execution_count": 5,
   "metadata": {},
   "outputs": [
    {
     "name": "stdout",
     "output_type": "stream",
     "text": [
      "Cześć Natalia Krawczyk!\n"
     ]
    }
   ],
   "source": [
    "def greetings(name: str, surname: str):\n",
    "    return 'Cześć ' + name + ' ' + surname + '!'\n",
    "\n",
    "name = 'Natalia'\n",
    "surname = 'Krawczyk'\n",
    "\n",
    "greetWith = greetings(name, surname)\n",
    "print(greetWith)"
   ]
  }
 ],
 "metadata": {
  "kernelspec": {
   "display_name": "Python 3.9.8 64-bit",
   "language": "python",
   "name": "python3"
  },
  "language_info": {
   "codemirror_mode": {
    "name": "ipython",
    "version": 3
   },
   "file_extension": ".py",
   "mimetype": "text/x-python",
   "name": "python",
   "nbconvert_exporter": "python",
   "pygments_lexer": "ipython3",
   "version": "3.9.8"
  },
  "orig_nbformat": 4,
  "vscode": {
   "interpreter": {
    "hash": "7f2eb623dfa5f891bddea5d2ee46bf300657ae8da1fde1fde5dd8fafda1bf4bf"
   }
  }
 },
 "nbformat": 4,
 "nbformat_minor": 2
}
