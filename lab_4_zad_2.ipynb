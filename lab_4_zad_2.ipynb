{
 "cells": [
  {
   "cell_type": "markdown",
   "metadata": {},
   "source": [
    "Stworzyć następujące klasy: Library, Employee, Book, Order. \n",
    "Dodatkowo: Każda klasa ma mieć zaimplementowaną metodę __str__ , która będzie opisywała obiekt oraz ewentualne obiekty znajdujące się w tym obiekcie (np. obiekt Library w obiekcie Book).\n",
    "Pola w klasie mają być zdefiniowane jako atrybuty ustawiane podczas tworzenia instancji klasy za pośrednictwem konstruktora.\n",
    "Stworzyć 2 biblioteki (2 instancje klasy), 5 książek, 3 pracowników, 3 studentów, oraz 2 zamówienia.\n",
    "Wyświetlić oba zamówienia (print)."
   ]
  },
  {
   "cell_type": "code",
   "execution_count": 2,
   "metadata": {},
   "outputs": [],
   "source": [
    "nl_char = \"\\n\"\n",
    "\n",
    "class Library:\n",
    "  def __init__(self, city, street, zip_code, open_hours: str, phone):\n",
    "    self.city = city\n",
    "    self.street = street\n",
    "    self.zip_code = zip_code\n",
    "    self.open_hours = open_hours\n",
    "    self.phone = phone\n",
    "  def __str__(self):\n",
    "      return f'city: {self.city} street: {self.street} zip code: {self.zip_code} open hours: {self.open_hours} phone: {self.phone}'\n",
    " \n",
    "class Employee:\n",
    "  def __init__(self, first_name, last_name, hire_date, birth_date, city, street, zip_code, phone):\n",
    "    self.first_name = first_name\n",
    "    self.last_name = last_name\n",
    "    self.hire_date = hire_date\n",
    "    self.birth_date = birth_date\n",
    "    self.city = city\n",
    "    self.street = street\n",
    "    self.zip_code = zip_code\n",
    "    self.phone = phone\n",
    "  def __str__(self):\n",
    "      return f'first name: {self.first_name} last name: {self.last_name} hire date: {self.hire_date} birth date: {self.birth_date} city: {self.city} street: {self.street} zip code: {self.zip_code} phone: {self.phone}'\n",
    "    \n",
    "class Book:\n",
    "  def __init__(self, library, publication_date, author_name, author_surname, number_of_pages):\n",
    "    self.library = library\n",
    "    self.publication_date = publication_date\n",
    "    self.author_name = author_name\n",
    "    self.author_surname = author_surname\n",
    "    self.number_of_pages = number_of_pages\n",
    "  def __str__(self):\n",
    "      return f'library: {self.library.__str__()}\\npublication date: {self.publication_date} author name: {self.author_name} author surname: {self.author_surname} number of pages:{self.number_of_pages}'\n",
    "    \n",
    "class Order:\n",
    "  def __init__(self, employee, student, books, order_date):\n",
    "    self.employee = employee\n",
    "    self.student = student\n",
    "    self.books = books\n",
    "    self.order_date = order_date\n",
    "  def __str__(self):\n",
    "      return f'employee: {self.employee.__str__()}\\nstudent: {self.student.__str__()}\\nbooks:\\n{nl_char.join(map(str, [str(index)+\": \"+book.__str__() for index, book in enumerate(self.books)]))}'\n",
    "\n",
    "class Student:\n",
    "  def __init__(self, name, marks):\n",
    "    self.name = name\n",
    "    self.marks = marks\n",
    "  def __str__(self):\n",
    "      return f'name: {self.name} marks: {self.marks}'"
   ]
  },
  {
   "cell_type": "code",
   "execution_count": 3,
   "metadata": {},
   "outputs": [],
   "source": [
    "library1 = Library('Katowice', 'ul. Ulica', '00-000', '9:30 - 20:15', '997')\n",
    "library2 = Library('Katowice', 'ul. Jakaś', '11-111', '9:30 - 18:15', '997')"
   ]
  },
  {
   "cell_type": "code",
   "execution_count": 4,
   "metadata": {},
   "outputs": [],
   "source": [
    "employee1 = Employee('Natalia', 'Pierwsza', '22-10-2022', '16-01-2022', 'Katowice', 'ul. Jakaś', '00-000', '997')\n",
    "employee2 = Employee('Natalia', 'Druga', '22-10-2022', '16-01-2022', 'Katowice', 'ul. Jakaś', '00-000', '997')\n",
    "employee3 = Employee('Natalia', 'Trzecia', '22-10-2022', '16-01-2022', 'Katowice', 'ul. Jakaś', '00-000', '997')"
   ]
  },
  {
   "cell_type": "code",
   "execution_count": 5,
   "metadata": {},
   "outputs": [],
   "source": [
    "book1 = Book(library1, '22-09-2021', 'Natalia', 'Truskawka', 600)\n",
    "book2 = Book(library2, '23-09-2022', 'Natalia', 'Jabłko', 500)\n",
    "book3 = Book(library1, '24-09-2023', 'Natalia', 'Pomarańcza', 400)\n",
    "book4 = Book(library2, '25-09-2024', 'Natalia', 'Borówka', 300)\n",
    "book5 = Book(library1, '26-09-2025', 'Natalia', 'Krawczyk', 200)"
   ]
  },
  {
   "cell_type": "code",
   "execution_count": 6,
   "metadata": {},
   "outputs": [],
   "source": [
    "student1 = Student('Natalia', [88, 76, 94, 33])\n",
    "student2 = Student('Zuzanna', [22, 91, 50, 64])\n",
    "student3 = Student('Karolina', [50, 46, 100, 94])"
   ]
  },
  {
   "cell_type": "code",
   "execution_count": 7,
   "metadata": {},
   "outputs": [],
   "source": [
    "order1 = Order(employee1, student2, [book1, book2, book4], '29-07-2021')\n",
    "order2 = Order(employee3, student1, [book5, book4, book3], '11-07-2019')"
   ]
  },
  {
   "cell_type": "code",
   "execution_count": 9,
   "metadata": {},
   "outputs": [
    {
     "name": "stdout",
     "output_type": "stream",
     "text": [
      "employee: first name: Natalia last name: Pierwsza hire date: 22-10-2022 birth date: 16-01-2022 city: Katowice street: ul. Jakaś zip code: 00-000 phone: 997\n",
      "student: name: Zuzanna marks: [22, 91, 50, 64]\n",
      "books:\n",
      "0: library: city: Katowice street: ul. Ulica zip code: 00-000 open hours: 9:30 - 20:15 phone: 997\n",
      "publication date: 22-09-2021 author name: Natalia author surname: Truskawka number of pages:600\n",
      "1: library: city: Katowice street: ul. Jakaś zip code: 11-111 open hours: 9:30 - 18:15 phone: 997\n",
      "publication date: 23-09-2022 author name: Natalia author surname: Jabłko number of pages:500\n",
      "2: library: city: Katowice street: ul. Jakaś zip code: 11-111 open hours: 9:30 - 18:15 phone: 997\n",
      "publication date: 25-09-2024 author name: Natalia author surname: Borówka number of pages:300\n",
      "\n",
      "\n",
      "employee: first name: Natalia last name: Trzecia hire date: 22-10-2022 birth date: 16-01-2022 city: Katowice street: ul. Jakaś zip code: 00-000 phone: 997\n",
      "student: name: Natalia marks: [88, 76, 94, 33]\n",
      "books:\n",
      "0: library: city: Katowice street: ul. Ulica zip code: 00-000 open hours: 9:30 - 20:15 phone: 997\n",
      "publication date: 26-09-2025 author name: Natalia author surname: Krawczyk number of pages:200\n",
      "1: library: city: Katowice street: ul. Jakaś zip code: 11-111 open hours: 9:30 - 18:15 phone: 997\n",
      "publication date: 25-09-2024 author name: Natalia author surname: Borówka number of pages:300\n",
      "2: library: city: Katowice street: ul. Ulica zip code: 00-000 open hours: 9:30 - 20:15 phone: 997\n",
      "publication date: 24-09-2023 author name: Natalia author surname: Pomarańcza number of pages:400\n"
     ]
    }
   ],
   "source": [
    "print(order1.__str__())\n",
    "print(\"\\n\")\n",
    "print(order2.__str__())"
   ]
  }
 ],
 "metadata": {
  "kernelspec": {
   "display_name": "Python 3.9.8 64-bit",
   "language": "python",
   "name": "python3"
  },
  "language_info": {
   "codemirror_mode": {
    "name": "ipython",
    "version": 3
   },
   "file_extension": ".py",
   "mimetype": "text/x-python",
   "name": "python",
   "nbconvert_exporter": "python",
   "pygments_lexer": "ipython3",
   "version": "3.9.8"
  },
  "orig_nbformat": 4,
  "vscode": {
   "interpreter": {
    "hash": "7f2eb623dfa5f891bddea5d2ee46bf300657ae8da1fde1fde5dd8fafda1bf4bf"
   }
  }
 },
 "nbformat": 4,
 "nbformat_minor": 2
}
